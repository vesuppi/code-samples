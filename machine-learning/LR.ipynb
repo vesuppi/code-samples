{
 "cells": [
  {
   "cell_type": "markdown",
   "id": "bebf30e9",
   "metadata": {},
   "source": [
    "Some fun experiments comparing the performance of using analytical solution vs gradient descent to solve linear regression."
   ]
  },
  {
   "cell_type": "code",
   "execution_count": 6,
   "id": "390c1681",
   "metadata": {},
   "outputs": [],
   "source": [
    "import numpy as np\n",
    "import pandas as pd\n",
    "from sklearn.metrics import mean_squared_error as mse\n",
    "\n",
    "randn = np.random.randn\n",
    "l2norm = np.linalg.norm\n",
    "inv = np.linalg.inv\n",
    "\n",
    "import torch.utils.benchmark as torchbench\n",
    "\n",
    "def bench(fn):\n",
    "    t0 = torchbench.Timer(\n",
    "    stmt='fn()',\n",
    "    globals={'fn': fn})\n",
    "    return t0.timeit(5).mean * 1000"
   ]
  },
  {
   "cell_type": "markdown",
   "id": "60e4d386",
   "metadata": {},
   "source": [
    "Create the design matrix X and the label y arrays by a linear transformation plus some normally distributed error."
   ]
  },
  {
   "cell_type": "code",
   "execution_count": 7,
   "id": "c9947c64",
   "metadata": {},
   "outputs": [
    {
     "name": "stdout",
     "output_type": "stream",
     "text": [
      "(true) feature vector:\n",
      " [ 1.47043091 -0.69113223  0.45764818 ...  0.83138272 -0.6473143\n",
      "  1.75372123]\n",
      "design matrix:\n",
      " [[ 1.          0.22026668 -0.6724195  ... -0.79868081 -0.07222758\n",
      "  -1.17574919]\n",
      " [ 1.         -0.28478734  0.1297956  ...  0.12191959  0.01505071\n",
      "  -0.48263082]\n",
      " [ 1.         -2.37904183  0.80408426 ... -0.85769672  0.3418519\n",
      "  -1.42630717]\n",
      " ...\n",
      " [ 1.          0.44553891 -1.48380682 ...  0.68697295  0.02512675\n",
      "  -2.07690947]\n",
      " [ 1.          1.55324169 -1.46649164 ... -0.63692279 -0.54866655\n",
      "  -0.47249879]\n",
      " [ 1.         -0.23864092  0.29223827 ...  1.0509838  -1.65980791\n",
      "  -0.32913919]]\n"
     ]
    }
   ],
   "source": [
    "nfeatures = 1024 + 1        # n\n",
    "nsamples = nfeatures * 15   # m\n",
    "\n",
    "b = randn(nfeatures)\n",
    "print('(true) feature vector:\\n', b)\n",
    "X = randn(nsamples, nfeatures)\n",
    "X[:,0] = 1\n",
    "print('design matrix:\\n', X)"
   ]
  },
  {
   "cell_type": "code",
   "execution_count": 8,
   "id": "b5d48eab",
   "metadata": {},
   "outputs": [
    {
     "name": "stdout",
     "output_type": "stream",
     "text": [
      "b hat:   [ 1.47990112 -0.69498175  0.45607926 ...  0.83427482 -0.64725524\n",
      "  1.76541115]\n",
      "b truth: [ 1.47043091 -0.69113223  0.45764818 ...  0.83138272 -0.6473143\n",
      "  1.75372123]\n",
      "MSE: 0.00007275\n",
      "time: 960.215 ms\n",
      "time of matmul: 403.077\n",
      "time of inverting: 68.085\n"
     ]
    }
   ],
   "source": [
    "y_truth = X @ b\n",
    "y = y_truth + randn(nsamples)\n",
    "\n",
    "def direct_solution():\n",
    "    # Complexity analysis\n",
    "    # X.T @ X: X is m x n, so O(mn^2)\n",
    "    # inv: O(n^3)\n",
    "    # inv(...) @ X.T: O(mn^2)\n",
    "    # last one is MV product: O(mn)\n",
    "    b_hat = inv(X.T @ X) @ X.T @ y\n",
    "    return b_hat\n",
    "\n",
    "b_hat = direct_solution()\n",
    "print('b hat:  ', b_hat)\n",
    "print('b truth:', b)\n",
    "print(f'MSE: {mse(b, b_hat):.8f}')\n",
    "print(f'time: {bench(direct_solution):.3f} ms')\n",
    "print(f'time of matmul: {bench(lambda: X.T @ X):.3f}')\n",
    "t = X.T @ X\n",
    "print(f'time of inverting: {bench(lambda: inv(t)):.3f}')"
   ]
  },
  {
   "cell_type": "code",
   "execution_count": 9,
   "id": "2c817b9d",
   "metadata": {
    "scrolled": false
   },
   "outputs": [
    {
     "name": "stdout",
     "output_type": "stream",
     "text": [
      "44\n",
      "b hat:   [ 1.47989959 -0.69498235  0.45607675 ...  0.83427476 -0.64725468\n",
      "  1.76541284]\n",
      "b truth: [ 1.47043091 -0.69113223  0.45764818 ...  0.83138272 -0.6473143\n",
      "  1.75372123]\n",
      "MSE: 0.00007275\n",
      "44\n",
      "44\n",
      "44\n",
      "45\n",
      "44\n",
      "44\n",
      "44\n",
      "time: 289.730 ms\n"
     ]
    }
   ],
   "source": [
    "def gd_fixed_step(step=0.2, iters=1000):\n",
    "    b = randn(nfeatures)\n",
    "    for i in range(iters):\n",
    "        grad = -2 * (y - X @ b) @ X / nsamples\n",
    "        b -= step * grad\n",
    "        ng = l2norm(grad)\n",
    "        #print(ng)\n",
    "        if ng < 1e-4:\n",
    "            print(i)\n",
    "            break\n",
    "    return b\n",
    "    \n",
    "b_hat = gd_fixed_step()\n",
    "print('b hat:  ', b_hat)\n",
    "print('b truth:', b)\n",
    "print(f'MSE: {mse(b, b_hat):.8f}')\n",
    "print(f'time: {bench(gd_fixed_step):.3f} ms')"
   ]
  },
  {
   "cell_type": "code",
   "execution_count": 10,
   "id": "16ab392f",
   "metadata": {},
   "outputs": [
    {
     "name": "stdout",
     "output_type": "stream",
     "text": [
      "17\n",
      "b hat:   [ 1.47990109 -0.6949814   0.4560792  ...  0.83427472 -0.64725517\n",
      "  1.76541146]\n",
      "b truth: [ 1.47043091 -0.69113223  0.45764818 ...  0.83138272 -0.6473143\n",
      "  1.75372123]\n",
      "MSE: 0.00007275\n",
      "17\n",
      "17\n",
      "17\n",
      "17\n",
      "17\n",
      "17\n",
      "17\n",
      "time: 118.217 ms\n"
     ]
    }
   ],
   "source": [
    "def gd_varied_step(init_step=0.2, iters=1000):\n",
    "    step = init_step\n",
    "    b = randn(nfeatures)\n",
    "    error = (y - X @ b)\n",
    "    prev_sse = np.sum(np.power(error, 2))\n",
    "    for i in range(iters):\n",
    "        error = (y - X @ b)\n",
    "        sse = np.sum(np.power(error, 2))\n",
    "        if sse < prev_sse:\n",
    "            step *= 1.5\n",
    "        else:\n",
    "            step = init_step\n",
    "        prev_sse = sse    \n",
    "        grad = -2 * error @ X / nsamples\n",
    "        b -= step * grad\n",
    "        ng = l2norm(grad)\n",
    "        if ng < 1e-4:\n",
    "            print(i)\n",
    "            break\n",
    "    return b\n",
    "    \n",
    "b_hat = gd_varied_step()\n",
    "print('b hat:  ', b_hat)\n",
    "print('b truth:', b)\n",
    "print(f'MSE: {mse(b, b_hat):.8f}')\n",
    "print(f'time: {bench(gd_varied_step):.3f} ms')"
   ]
  }
 ],
 "metadata": {
  "kernelspec": {
   "display_name": "Python 3 (ipykernel)",
   "language": "python",
   "name": "python3"
  },
  "language_info": {
   "codemirror_mode": {
    "name": "ipython",
    "version": 3
   },
   "file_extension": ".py",
   "mimetype": "text/x-python",
   "name": "python",
   "nbconvert_exporter": "python",
   "pygments_lexer": "ipython3",
   "version": "3.9.12"
  }
 },
 "nbformat": 4,
 "nbformat_minor": 5
}

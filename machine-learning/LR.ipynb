{
 "cells": [
  {
   "cell_type": "markdown",
   "id": "bebf30e9",
   "metadata": {},
   "source": [
    "Some fun experiments comparing the performance of using analytical solution vs gradient descent to solve linear regression."
   ]
  },
  {
   "cell_type": "code",
   "execution_count": 56,
   "id": "390c1681",
   "metadata": {},
   "outputs": [],
   "source": [
    "import numpy as np\n",
    "import pandas as pd\n",
    "from sklearn.metrics import mean_squared_error as mse\n",
    "\n",
    "randn = np.random.randn\n",
    "l2norm = np.linalg.norm\n",
    "\n",
    "import torch.utils.benchmark as torchbench\n",
    "\n",
    "def bench(fn):\n",
    "    t0 = torchbench.Timer(\n",
    "    stmt='fn()',\n",
    "    globals={'fn': fn})\n",
    "    return t0.timeit(5).mean * 1000"
   ]
  },
  {
   "cell_type": "markdown",
   "id": "60e4d386",
   "metadata": {},
   "source": [
    "Create the design matrix X and the label y arrays by a linear transformation plus some normally distributed error."
   ]
  },
  {
   "cell_type": "code",
   "execution_count": 57,
   "id": "c9947c64",
   "metadata": {},
   "outputs": [
    {
     "name": "stdout",
     "output_type": "stream",
     "text": [
      "(true) feature vector:\n",
      " [ 0.6165659  -1.12961516  1.51448317 ... -0.45687138 -1.27717563\n",
      " -0.81561424]\n",
      "design matrix:\n",
      " [[ 1.          1.          1.         ...  1.          1.\n",
      "   1.        ]\n",
      " [-0.26066707 -0.06262741 -0.39251034 ... -1.09108437 -0.94859971\n",
      "  -1.58804296]\n",
      " [ 0.65051288 -0.71301832  0.34022412 ... -0.74797108  0.58349247\n",
      "   0.16346827]\n",
      " ...\n",
      " [-1.06871364 -0.06081977  0.31108845 ...  0.0381546   0.60568548\n",
      "   0.14035323]\n",
      " [-0.14717475 -0.3520984   1.98482409 ... -0.34046461  0.99573805\n",
      "  -0.58691011]\n",
      " [ 0.33086866  0.06742121 -0.38564413 ... -0.23308997 -0.94823448\n",
      "   1.20469088]]\n"
     ]
    }
   ],
   "source": [
    "nfeatures = 1024 + 1        # n\n",
    "nsamples = nfeatures * 15   # m\n",
    "\n",
    "b = randn(nfeatures)\n",
    "print('(true) feature vector:\\n', b)\n",
    "X = randn(nsamples, nfeatures)\n",
    "X[0,:] = 1\n",
    "print('design matrix:\\n', X)"
   ]
  },
  {
   "cell_type": "code",
   "execution_count": 62,
   "id": "b5d48eab",
   "metadata": {},
   "outputs": [
    {
     "name": "stdout",
     "output_type": "stream",
     "text": [
      "b hat:   [ 0.60873505 -1.1364232   1.52194525 ... -0.45236377 -1.27560383\n",
      " -0.81333577]\n",
      "b truth: [ 0.6165659  -1.12961516  1.51448317 ... -0.45687138 -1.27717563\n",
      " -0.81561424]\n",
      "MSE: 0.00007474\n",
      "time: 960.863 ms\n",
      "time of matmul: 404.315\n"
     ]
    }
   ],
   "source": [
    "y_truth = X @ b\n",
    "y = y_truth + randn(nsamples)\n",
    "\n",
    "def direct_solution():\n",
    "    # Complexity analysis\n",
    "    # X.T @ X: X is m x n, so O(mn^2)\n",
    "    # inv: O(n^3)\n",
    "    # inv(...) @ X.T: O(mn^2)\n",
    "    # last one is MV product: O(mn)\n",
    "    b_hat = np.linalg.inv(X.T @ X) @ X.T @ y\n",
    "    return b_hat\n",
    "\n",
    "b_hat = direct_solution()\n",
    "print('b hat:  ', b_hat)\n",
    "print('b truth:', b)\n",
    "print(f'MSE: {mse(b, b_hat):.8f}')\n",
    "print(f'time: {bench(direct_solution):.3f} ms')\n",
    "print(f'time of matmul: {bench(lambda: X.T @ X):.3f}')"
   ]
  },
  {
   "cell_type": "code",
   "execution_count": 59,
   "id": "2c817b9d",
   "metadata": {
    "scrolled": false
   },
   "outputs": [
    {
     "name": "stdout",
     "output_type": "stream",
     "text": [
      "44\n",
      "b hat:   [ 0.61289855 -1.12682652  1.52123435 ... -0.45501485 -1.29001648\n",
      " -0.80619029]\n",
      "b truth: [ 0.6165659  -1.12961516  1.51448317 ... -0.45687138 -1.27717563\n",
      " -0.81561424]\n",
      "MSE: 0.00007125\n",
      "45\n",
      "45\n",
      "45\n",
      "45\n",
      "45\n",
      "45\n",
      "45\n",
      "time: 291.080 ms\n"
     ]
    }
   ],
   "source": [
    "def gd_fixed_step(step=0.2, iters=1000):\n",
    "    b = randn(nfeatures)\n",
    "    for i in range(iters):\n",
    "        grad = -2 * (y - X @ b) @ X / nsamples\n",
    "        b -= step * grad\n",
    "        ng = l2norm(grad)\n",
    "        #print(ng)\n",
    "        if ng < 1e-4:\n",
    "            print(i)\n",
    "            break\n",
    "    return b\n",
    "    \n",
    "b_hat = gd_fixed_step()\n",
    "print('b hat:  ', b_hat)\n",
    "print('b truth:', b)\n",
    "print(f'MSE: {mse(b, b_hat):.8f}')\n",
    "print(f'time: {bench(gd_fixed_step):.3f} ms')"
   ]
  },
  {
   "cell_type": "code",
   "execution_count": 64,
   "id": "16ab392f",
   "metadata": {},
   "outputs": [
    {
     "name": "stdout",
     "output_type": "stream",
     "text": [
      "17\n",
      "b hat:   [ 0.60873463 -1.13642337  1.52194494 ... -0.45236386 -1.27560378\n",
      " -0.81333595]\n",
      "b truth: [ 0.6165659  -1.12961516  1.51448317 ... -0.45687138 -1.27717563\n",
      " -0.81561424]\n",
      "MSE: 0.00007474\n",
      "17\n",
      "17\n",
      "17\n",
      "17\n",
      "17\n",
      "17\n",
      "17\n",
      "time: 119.298 ms\n"
     ]
    }
   ],
   "source": [
    "def gd_varied_step(init_step=0.2, iters=1000):\n",
    "    step = init_step\n",
    "    b = randn(nfeatures)\n",
    "    error = (y - X @ b)\n",
    "    prev_sse = np.sum(np.power(error, 2))\n",
    "    for i in range(iters):\n",
    "        error = (y - X @ b)\n",
    "        sse = np.sum(np.power(error, 2))\n",
    "        if sse < prev_sse:\n",
    "            step *= 1.5\n",
    "        else:\n",
    "            step = init_step\n",
    "        prev_sse = sse    \n",
    "        grad = -2 * error @ X / nsamples\n",
    "        b -= step * grad\n",
    "        ng = l2norm(grad)\n",
    "        if ng < 1e-4:\n",
    "            print(i)\n",
    "            break\n",
    "    return b\n",
    "    \n",
    "b_hat = gd_varied_step()\n",
    "print('b hat:  ', b_hat)\n",
    "print('b truth:', b)\n",
    "print(f'MSE: {mse(b, b_hat):.8f}')\n",
    "print(f'time: {bench(gd_varied_step):.3f} ms')"
   ]
  }
 ],
 "metadata": {
  "kernelspec": {
   "display_name": "Python 3 (ipykernel)",
   "language": "python",
   "name": "python3"
  },
  "language_info": {
   "codemirror_mode": {
    "name": "ipython",
    "version": 3
   },
   "file_extension": ".py",
   "mimetype": "text/x-python",
   "name": "python",
   "nbconvert_exporter": "python",
   "pygments_lexer": "ipython3",
   "version": "3.9.12"
  }
 },
 "nbformat": 4,
 "nbformat_minor": 5
}

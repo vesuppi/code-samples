{
 "cells": [
  {
   "cell_type": "markdown",
   "id": "bebf30e9",
   "metadata": {},
   "source": [
    "Some fun experiments comparing the performance of using analytical solution vs gradient descent to solve linear regression."
   ]
  },
  {
   "cell_type": "code",
   "execution_count": 1,
   "id": "390c1681",
   "metadata": {},
   "outputs": [],
   "source": [
    "import numpy as np\n",
    "import pandas as pd\n",
    "from sklearn.metrics import mean_squared_error as mse\n",
    "\n",
    "randn = np.random.randn\n",
    "l2norm = np.linalg.norm\n",
    "inv = np.linalg.inv\n",
    "\n",
    "import torch.utils.benchmark as torchbench\n",
    "\n",
    "def bench(fn):\n",
    "    t0 = torchbench.Timer(\n",
    "    stmt='fn()',\n",
    "    globals={'fn': fn})\n",
    "    return t0.timeit(5).mean * 1000"
   ]
  },
  {
   "cell_type": "markdown",
   "id": "60e4d386",
   "metadata": {},
   "source": [
    "Create the design matrix X and the label y arrays by a linear transformation plus some normally distributed error."
   ]
  },
  {
   "cell_type": "code",
   "execution_count": 52,
   "id": "c9947c64",
   "metadata": {},
   "outputs": [],
   "source": [
    "nfeatures = 1024 + 1        # n\n",
    "nsamples = nfeatures * 20   # m\n",
    "si = nfeatures*15\n",
    "\n",
    "b = randn(nfeatures)\n",
    "_X = randn(nsamples, nfeatures)\n",
    "_X[:,0] = 1\n",
    "_X[:,2] = _X[:,1] + randn(nsamples) * 0.01\n",
    "X = _X[0:si]\n",
    "X_test = _X[si:]\n",
    "\n",
    "y_truth = _X @ b\n",
    "_y = y_truth + randn(nsamples)\n",
    "y = _y[0:si]\n",
    "y_test_truth = _y[si:]"
   ]
  },
  {
   "cell_type": "code",
   "execution_count": 63,
   "id": "b5d48eab",
   "metadata": {},
   "outputs": [
    {
     "name": "stdout",
     "output_type": "stream",
     "text": [
      "b hat:   [ 0.46939664 -0.43051188 -0.44378367 ...  0.79959653  1.84777393\n",
      "  1.12738231]\n",
      "b truth: [ 0.47624798  0.66586679 -1.54426316 ...  0.80751583  1.85427948\n",
      "  1.13675101]\n",
      "[ -6.39479709  32.2888496   28.7520582  ...  -8.80781922 -23.32479413\n",
      " -33.83633557]\n",
      "[ -5.65151559  32.37736412  28.79186303 ... -10.19789198 -23.13249109\n",
      " -33.0176142 ]\n",
      "1.0910558229128207\n"
     ]
    }
   ],
   "source": [
    "\n",
    "\n",
    "def direct_solution():\n",
    "    # Complexity analysis\n",
    "    # X.T @ X: X is m x n, so O(mn^2)\n",
    "    # inv: O(n^3)\n",
    "    # inv(...) @ X.T: O(mn^2)\n",
    "    # last one is MV product: O(mn)\n",
    "    b_hat = inv(X.T @ X + 100*np.identity(nfeatures)) @ X.T @ y\n",
    "    return b_hat\n",
    "\n",
    "b_hat = direct_solution()\n",
    "print('b hat:  ', b_hat)\n",
    "print('b truth:', b)\n",
    "y_test = X_test @ b_hat\n",
    "print(y_test)\n",
    "print(y_test_truth)\n",
    "print(mse(y_test, y_test_truth))\n",
    "\n",
    "#print(f'time: {bench(direct_solution):.3f} ms')\n",
    "#print(f'time of matmul: {bench(lambda: X.T @ X):.3f}')\n",
    "#t = X.T @ X\n",
    "#print(f'time of inverting: {bench(lambda: inv(t)):.3f}')"
   ]
  },
  {
   "cell_type": "code",
   "execution_count": null,
   "id": "7c14f743",
   "metadata": {},
   "outputs": [],
   "source": []
  },
  {
   "cell_type": "code",
   "execution_count": 23,
   "id": "2c817b9d",
   "metadata": {
    "scrolled": false
   },
   "outputs": [
    {
     "name": "stdout",
     "output_type": "stream",
     "text": [
      "339\n",
      "b hat:   [ 1.29247416  0.04862471 -0.05771728 ... -1.08123838 -1.22183517\n",
      "  0.1896468 ]\n",
      "b truth: [ 1.31137936  0.51396069 -0.51886663 ... -1.12443243 -1.24743364\n",
      "  0.18186636]\n",
      "L2norm: 1.13669733\n",
      "218\n",
      "34\n",
      "379\n",
      "285\n",
      "424\n",
      "289\n",
      "421\n",
      "time: 2329.868 ms\n"
     ]
    }
   ],
   "source": [
    "def gd_fixed_step(step=0.2, iters=1000):\n",
    "    b = randn(nfeatures)\n",
    "    for i in range(iters):\n",
    "        grad = -2 * (y - X @ b) @ X / nsamples + 0.05*b\n",
    "        b -= step * grad\n",
    "        ng = l2norm(grad)\n",
    "        #print(ng)\n",
    "        if ng < 1e-3:\n",
    "            break\n",
    "    print(i)\n",
    "    return b\n",
    "    \n",
    "b_hat = gd_fixed_step()\n",
    "print('b hat:  ', b_hat)\n",
    "print('b truth:', b)\n",
    "print(f'L2norm: {l2norm(b-b_hat):.8f}')\n",
    "print(f'time: {bench(gd_fixed_step):.3f} ms')"
   ]
  },
  {
   "cell_type": "code",
   "execution_count": 24,
   "id": "16ab392f",
   "metadata": {},
   "outputs": [
    {
     "name": "stdout",
     "output_type": "stream",
     "text": [
      "226\n",
      "b hat:   [ 1.29247415  0.04866589 -0.05775842 ... -1.08123834 -1.2218352\n",
      "  0.1896468 ]\n",
      "b truth: [ 1.31137936  0.51396069 -0.51886663 ... -1.12443243 -1.24743364\n",
      "  0.18186636]\n",
      "L2norm: 1.13666381\n",
      "53\n",
      "386\n",
      "105\n",
      "81\n",
      "289\n",
      "104\n",
      "42\n",
      "time: 824.497 ms\n"
     ]
    }
   ],
   "source": [
    "def gd_varied_step(init_step=0.2, iters=1000):\n",
    "    step = init_step\n",
    "    b = randn(nfeatures)\n",
    "    error = (y - X @ b)\n",
    "    prev_sse = np.sum(np.power(error, 2))\n",
    "    for i in range(iters):\n",
    "        error = (y - X @ b)\n",
    "        sse = np.sum(np.power(error, 2))\n",
    "        if sse < prev_sse:\n",
    "            step *= 1.5\n",
    "        else:\n",
    "            step = init_step\n",
    "        prev_sse = sse    \n",
    "        grad = -2 * error @ X / nsamples + 0.05*b\n",
    "        b -= step * grad\n",
    "        ng = l2norm(grad)\n",
    "        #print(ng)\n",
    "        if ng < 1e-3:\n",
    "            break\n",
    "    print(i)\n",
    "    return b\n",
    "    \n",
    "b_hat = gd_varied_step()\n",
    "print('b hat:  ', b_hat)\n",
    "print('b truth:', b)\n",
    "print(f'L2norm: {l2norm(b-b_hat):.8f}')\n",
    "print(f'time: {bench(gd_varied_step):.3f} ms')"
   ]
  }
 ],
 "metadata": {
  "kernelspec": {
   "display_name": "Python 3 (ipykernel)",
   "language": "python",
   "name": "python3"
  },
  "language_info": {
   "codemirror_mode": {
    "name": "ipython",
    "version": 3
   },
   "file_extension": ".py",
   "mimetype": "text/x-python",
   "name": "python",
   "nbconvert_exporter": "python",
   "pygments_lexer": "ipython3",
   "version": "3.9.12"
  }
 },
 "nbformat": 4,
 "nbformat_minor": 5
}
